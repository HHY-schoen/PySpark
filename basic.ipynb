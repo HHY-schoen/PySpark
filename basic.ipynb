{
  "nbformat": 4,
  "nbformat_minor": 0,
  "metadata": {
    "colab": {
      "provenance": [],
      "toc_visible": true
    },
    "kernelspec": {
      "name": "python3",
      "display_name": "Python 3"
    },
    "language_info": {
      "name": "python"
    }
  },
  "cells": [
    {
      "cell_type": "markdown",
      "source": [
        "**Baic Function**\n",
        "- basic\n",
        "- dataframe\n",
        "- missing value\n",
        "- groupby\n",
        "- aggregate\n",
        "- MLlib\n",
        "- tool : DataBricks\n"
      ],
      "metadata": {
        "id": "c-ytpUNWobwY"
      }
    },
    {
      "cell_type": "markdown",
      "source": [
        "## Basic"
      ],
      "metadata": {
        "id": "py-7pATcK-bv"
      }
    },
    {
      "cell_type": "code",
      "execution_count": null,
      "metadata": {
        "colab": {
          "base_uri": "https://localhost:8080/"
        },
        "id": "Zxu0j0qF-BG0",
        "outputId": "9dab9d81-6579-4222-a86c-4baee1a2a8e5"
      },
      "outputs": [
        {
          "output_type": "stream",
          "name": "stdout",
          "text": [
            "Requirement already satisfied: pyspark in /usr/local/lib/python3.10/dist-packages (3.5.0)\n",
            "Requirement already satisfied: py4j==0.10.9.7 in /usr/local/lib/python3.10/dist-packages (from pyspark) (0.10.9.7)\n"
          ]
        }
      ],
      "source": [
        "!pip install pyspark"
      ]
    },
    {
      "cell_type": "code",
      "source": [
        "import pyspark\n",
        "import pandas as pd"
      ],
      "metadata": {
        "id": "427wpwy-EKT8"
      },
      "execution_count": null,
      "outputs": []
    },
    {
      "cell_type": "code",
      "source": [
        "pd.read_csv('scores.csv')"
      ],
      "metadata": {
        "colab": {
          "base_uri": "https://localhost:8080/",
          "height": 143
        },
        "id": "EyXo4dXAEcvL",
        "outputId": "bc7fed39-7f06-4f9e-efa3-f4c881a07f49"
      },
      "execution_count": null,
      "outputs": [
        {
          "output_type": "execute_result",
          "data": {
            "text/plain": [
              "   Name  Age  Exprrience\n",
              "0   Tim   42           8\n",
              "1  Jack   33           6\n",
              "2  Ruyb   26           2"
            ],
            "text/html": [
              "\n",
              "  <div id=\"df-02c6caf3-41c3-4344-87a5-c2a91b2c33ac\" class=\"colab-df-container\">\n",
              "    <div>\n",
              "<style scoped>\n",
              "    .dataframe tbody tr th:only-of-type {\n",
              "        vertical-align: middle;\n",
              "    }\n",
              "\n",
              "    .dataframe tbody tr th {\n",
              "        vertical-align: top;\n",
              "    }\n",
              "\n",
              "    .dataframe thead th {\n",
              "        text-align: right;\n",
              "    }\n",
              "</style>\n",
              "<table border=\"1\" class=\"dataframe\">\n",
              "  <thead>\n",
              "    <tr style=\"text-align: right;\">\n",
              "      <th></th>\n",
              "      <th>Name</th>\n",
              "      <th>Age</th>\n",
              "      <th>Exprrience</th>\n",
              "    </tr>\n",
              "  </thead>\n",
              "  <tbody>\n",
              "    <tr>\n",
              "      <th>0</th>\n",
              "      <td>Tim</td>\n",
              "      <td>42</td>\n",
              "      <td>8</td>\n",
              "    </tr>\n",
              "    <tr>\n",
              "      <th>1</th>\n",
              "      <td>Jack</td>\n",
              "      <td>33</td>\n",
              "      <td>6</td>\n",
              "    </tr>\n",
              "    <tr>\n",
              "      <th>2</th>\n",
              "      <td>Ruyb</td>\n",
              "      <td>26</td>\n",
              "      <td>2</td>\n",
              "    </tr>\n",
              "  </tbody>\n",
              "</table>\n",
              "</div>\n",
              "    <div class=\"colab-df-buttons\">\n",
              "\n",
              "  <div class=\"colab-df-container\">\n",
              "    <button class=\"colab-df-convert\" onclick=\"convertToInteractive('df-02c6caf3-41c3-4344-87a5-c2a91b2c33ac')\"\n",
              "            title=\"Convert this dataframe to an interactive table.\"\n",
              "            style=\"display:none;\">\n",
              "\n",
              "  <svg xmlns=\"http://www.w3.org/2000/svg\" height=\"24px\" viewBox=\"0 -960 960 960\">\n",
              "    <path d=\"M120-120v-720h720v720H120Zm60-500h600v-160H180v160Zm220 220h160v-160H400v160Zm0 220h160v-160H400v160ZM180-400h160v-160H180v160Zm440 0h160v-160H620v160ZM180-180h160v-160H180v160Zm440 0h160v-160H620v160Z\"/>\n",
              "  </svg>\n",
              "    </button>\n",
              "\n",
              "  <style>\n",
              "    .colab-df-container {\n",
              "      display:flex;\n",
              "      gap: 12px;\n",
              "    }\n",
              "\n",
              "    .colab-df-convert {\n",
              "      background-color: #E8F0FE;\n",
              "      border: none;\n",
              "      border-radius: 50%;\n",
              "      cursor: pointer;\n",
              "      display: none;\n",
              "      fill: #1967D2;\n",
              "      height: 32px;\n",
              "      padding: 0 0 0 0;\n",
              "      width: 32px;\n",
              "    }\n",
              "\n",
              "    .colab-df-convert:hover {\n",
              "      background-color: #E2EBFA;\n",
              "      box-shadow: 0px 1px 2px rgba(60, 64, 67, 0.3), 0px 1px 3px 1px rgba(60, 64, 67, 0.15);\n",
              "      fill: #174EA6;\n",
              "    }\n",
              "\n",
              "    .colab-df-buttons div {\n",
              "      margin-bottom: 4px;\n",
              "    }\n",
              "\n",
              "    [theme=dark] .colab-df-convert {\n",
              "      background-color: #3B4455;\n",
              "      fill: #D2E3FC;\n",
              "    }\n",
              "\n",
              "    [theme=dark] .colab-df-convert:hover {\n",
              "      background-color: #434B5C;\n",
              "      box-shadow: 0px 1px 3px 1px rgba(0, 0, 0, 0.15);\n",
              "      filter: drop-shadow(0px 1px 2px rgba(0, 0, 0, 0.3));\n",
              "      fill: #FFFFFF;\n",
              "    }\n",
              "  </style>\n",
              "\n",
              "    <script>\n",
              "      const buttonEl =\n",
              "        document.querySelector('#df-02c6caf3-41c3-4344-87a5-c2a91b2c33ac button.colab-df-convert');\n",
              "      buttonEl.style.display =\n",
              "        google.colab.kernel.accessAllowed ? 'block' : 'none';\n",
              "\n",
              "      async function convertToInteractive(key) {\n",
              "        const element = document.querySelector('#df-02c6caf3-41c3-4344-87a5-c2a91b2c33ac');\n",
              "        const dataTable =\n",
              "          await google.colab.kernel.invokeFunction('convertToInteractive',\n",
              "                                                    [key], {});\n",
              "        if (!dataTable) return;\n",
              "\n",
              "        const docLinkHtml = 'Like what you see? Visit the ' +\n",
              "          '<a target=\"_blank\" href=https://colab.research.google.com/notebooks/data_table.ipynb>data table notebook</a>'\n",
              "          + ' to learn more about interactive tables.';\n",
              "        element.innerHTML = '';\n",
              "        dataTable['output_type'] = 'display_data';\n",
              "        await google.colab.output.renderOutput(dataTable, element);\n",
              "        const docLink = document.createElement('div');\n",
              "        docLink.innerHTML = docLinkHtml;\n",
              "        element.appendChild(docLink);\n",
              "      }\n",
              "    </script>\n",
              "  </div>\n",
              "\n",
              "\n",
              "<div id=\"df-c4433487-2ba3-4fa2-a390-7917c6ce03f4\">\n",
              "  <button class=\"colab-df-quickchart\" onclick=\"quickchart('df-c4433487-2ba3-4fa2-a390-7917c6ce03f4')\"\n",
              "            title=\"Suggest charts\"\n",
              "            style=\"display:none;\">\n",
              "\n",
              "<svg xmlns=\"http://www.w3.org/2000/svg\" height=\"24px\"viewBox=\"0 0 24 24\"\n",
              "     width=\"24px\">\n",
              "    <g>\n",
              "        <path d=\"M19 3H5c-1.1 0-2 .9-2 2v14c0 1.1.9 2 2 2h14c1.1 0 2-.9 2-2V5c0-1.1-.9-2-2-2zM9 17H7v-7h2v7zm4 0h-2V7h2v10zm4 0h-2v-4h2v4z\"/>\n",
              "    </g>\n",
              "</svg>\n",
              "  </button>\n",
              "\n",
              "<style>\n",
              "  .colab-df-quickchart {\n",
              "      --bg-color: #E8F0FE;\n",
              "      --fill-color: #1967D2;\n",
              "      --hover-bg-color: #E2EBFA;\n",
              "      --hover-fill-color: #174EA6;\n",
              "      --disabled-fill-color: #AAA;\n",
              "      --disabled-bg-color: #DDD;\n",
              "  }\n",
              "\n",
              "  [theme=dark] .colab-df-quickchart {\n",
              "      --bg-color: #3B4455;\n",
              "      --fill-color: #D2E3FC;\n",
              "      --hover-bg-color: #434B5C;\n",
              "      --hover-fill-color: #FFFFFF;\n",
              "      --disabled-bg-color: #3B4455;\n",
              "      --disabled-fill-color: #666;\n",
              "  }\n",
              "\n",
              "  .colab-df-quickchart {\n",
              "    background-color: var(--bg-color);\n",
              "    border: none;\n",
              "    border-radius: 50%;\n",
              "    cursor: pointer;\n",
              "    display: none;\n",
              "    fill: var(--fill-color);\n",
              "    height: 32px;\n",
              "    padding: 0;\n",
              "    width: 32px;\n",
              "  }\n",
              "\n",
              "  .colab-df-quickchart:hover {\n",
              "    background-color: var(--hover-bg-color);\n",
              "    box-shadow: 0 1px 2px rgba(60, 64, 67, 0.3), 0 1px 3px 1px rgba(60, 64, 67, 0.15);\n",
              "    fill: var(--button-hover-fill-color);\n",
              "  }\n",
              "\n",
              "  .colab-df-quickchart-complete:disabled,\n",
              "  .colab-df-quickchart-complete:disabled:hover {\n",
              "    background-color: var(--disabled-bg-color);\n",
              "    fill: var(--disabled-fill-color);\n",
              "    box-shadow: none;\n",
              "  }\n",
              "\n",
              "  .colab-df-spinner {\n",
              "    border: 2px solid var(--fill-color);\n",
              "    border-color: transparent;\n",
              "    border-bottom-color: var(--fill-color);\n",
              "    animation:\n",
              "      spin 1s steps(1) infinite;\n",
              "  }\n",
              "\n",
              "  @keyframes spin {\n",
              "    0% {\n",
              "      border-color: transparent;\n",
              "      border-bottom-color: var(--fill-color);\n",
              "      border-left-color: var(--fill-color);\n",
              "    }\n",
              "    20% {\n",
              "      border-color: transparent;\n",
              "      border-left-color: var(--fill-color);\n",
              "      border-top-color: var(--fill-color);\n",
              "    }\n",
              "    30% {\n",
              "      border-color: transparent;\n",
              "      border-left-color: var(--fill-color);\n",
              "      border-top-color: var(--fill-color);\n",
              "      border-right-color: var(--fill-color);\n",
              "    }\n",
              "    40% {\n",
              "      border-color: transparent;\n",
              "      border-right-color: var(--fill-color);\n",
              "      border-top-color: var(--fill-color);\n",
              "    }\n",
              "    60% {\n",
              "      border-color: transparent;\n",
              "      border-right-color: var(--fill-color);\n",
              "    }\n",
              "    80% {\n",
              "      border-color: transparent;\n",
              "      border-right-color: var(--fill-color);\n",
              "      border-bottom-color: var(--fill-color);\n",
              "    }\n",
              "    90% {\n",
              "      border-color: transparent;\n",
              "      border-bottom-color: var(--fill-color);\n",
              "    }\n",
              "  }\n",
              "</style>\n",
              "\n",
              "  <script>\n",
              "    async function quickchart(key) {\n",
              "      const quickchartButtonEl =\n",
              "        document.querySelector('#' + key + ' button');\n",
              "      quickchartButtonEl.disabled = true;  // To prevent multiple clicks.\n",
              "      quickchartButtonEl.classList.add('colab-df-spinner');\n",
              "      try {\n",
              "        const charts = await google.colab.kernel.invokeFunction(\n",
              "            'suggestCharts', [key], {});\n",
              "      } catch (error) {\n",
              "        console.error('Error during call to suggestCharts:', error);\n",
              "      }\n",
              "      quickchartButtonEl.classList.remove('colab-df-spinner');\n",
              "      quickchartButtonEl.classList.add('colab-df-quickchart-complete');\n",
              "    }\n",
              "    (() => {\n",
              "      let quickchartButtonEl =\n",
              "        document.querySelector('#df-c4433487-2ba3-4fa2-a390-7917c6ce03f4 button');\n",
              "      quickchartButtonEl.style.display =\n",
              "        google.colab.kernel.accessAllowed ? 'block' : 'none';\n",
              "    })();\n",
              "  </script>\n",
              "</div>\n",
              "\n",
              "    </div>\n",
              "  </div>\n"
            ]
          },
          "metadata": {},
          "execution_count": 127
        }
      ]
    },
    {
      "cell_type": "code",
      "source": [
        "# create a spark session\n",
        "from pyspark.sql import SparkSession\n",
        "\n",
        "spark = SparkSession.builder.appName('practice').getOrCreate()\n",
        "spark"
      ],
      "metadata": {
        "colab": {
          "base_uri": "https://localhost:8080/",
          "height": 222
        },
        "id": "gHjyL5RYHhPD",
        "outputId": "c8de5012-ee5b-4ee8-f5cf-21b5f760a96d"
      },
      "execution_count": null,
      "outputs": [
        {
          "output_type": "execute_result",
          "data": {
            "text/plain": [
              "<pyspark.sql.session.SparkSession at 0x7a6d449a9fc0>"
            ],
            "text/html": [
              "\n",
              "            <div>\n",
              "                <p><b>SparkSession - in-memory</b></p>\n",
              "                \n",
              "        <div>\n",
              "            <p><b>SparkContext</b></p>\n",
              "\n",
              "            <p><a href=\"http://9b3b9e43515a:4040\">Spark UI</a></p>\n",
              "\n",
              "            <dl>\n",
              "              <dt>Version</dt>\n",
              "                <dd><code>v3.5.0</code></dd>\n",
              "              <dt>Master</dt>\n",
              "                <dd><code>local[*]</code></dd>\n",
              "              <dt>AppName</dt>\n",
              "                <dd><code>practice</code></dd>\n",
              "            </dl>\n",
              "        </div>\n",
              "        \n",
              "            </div>\n",
              "        "
            ]
          },
          "metadata": {},
          "execution_count": 128
        }
      ]
    },
    {
      "cell_type": "code",
      "source": [
        "df_pyspark = spark.read.csv('scores.csv')\n",
        "df_pyspark.show()"
      ],
      "metadata": {
        "colab": {
          "base_uri": "https://localhost:8080/"
        },
        "id": "H23GjCztHlPL",
        "outputId": "6e5e97fb-bd63-4319-8a72-72198d98e6cb"
      },
      "execution_count": null,
      "outputs": [
        {
          "output_type": "stream",
          "name": "stdout",
          "text": [
            "+----+---+----------+\n",
            "| _c0|_c1|       _c2|\n",
            "+----+---+----------+\n",
            "|Name|Age|Exprrience|\n",
            "| Tim| 42|         8|\n",
            "|Jack| 33|         6|\n",
            "|Ruyb| 26|         2|\n",
            "+----+---+----------+\n",
            "\n"
          ]
        }
      ]
    },
    {
      "cell_type": "code",
      "source": [
        "df_pyspark = spark.read.option('header','true').csv('scores.csv')\n",
        "df_pyspark.show()"
      ],
      "metadata": {
        "colab": {
          "base_uri": "https://localhost:8080/"
        },
        "id": "mspwUl9CHlSo",
        "outputId": "a3542d8c-7bde-4a40-cd20-d48c8fced7a6"
      },
      "execution_count": null,
      "outputs": [
        {
          "output_type": "stream",
          "name": "stdout",
          "text": [
            "+----+---+----------+\n",
            "|Name|Age|Exprrience|\n",
            "+----+---+----------+\n",
            "| Tim| 42|         8|\n",
            "|Jack| 33|         6|\n",
            "|Ruyb| 26|         2|\n",
            "+----+---+----------+\n",
            "\n"
          ]
        }
      ]
    },
    {
      "cell_type": "code",
      "source": [
        "type(df_pyspark)"
      ],
      "metadata": {
        "colab": {
          "base_uri": "https://localhost:8080/"
        },
        "id": "HODorj0cJ8cM",
        "outputId": "28717e3b-0a45-4c83-eb25-842ef8a02170"
      },
      "execution_count": null,
      "outputs": [
        {
          "output_type": "execute_result",
          "data": {
            "text/plain": [
              "pyspark.sql.dataframe.DataFrame"
            ]
          },
          "metadata": {},
          "execution_count": 131
        }
      ]
    },
    {
      "cell_type": "code",
      "source": [
        "df_pyspark.head(2)"
      ],
      "metadata": {
        "colab": {
          "base_uri": "https://localhost:8080/"
        },
        "id": "DoYhT2oDKGER",
        "outputId": "e6810e01-4fa8-4eef-936b-3cb77c76503b"
      },
      "execution_count": null,
      "outputs": [
        {
          "output_type": "execute_result",
          "data": {
            "text/plain": [
              "[Row(Name='Tim', Age='42', Exprrience='8'),\n",
              " Row(Name='Jack', Age='33', Exprrience='6')]"
            ]
          },
          "metadata": {},
          "execution_count": 132
        }
      ]
    },
    {
      "cell_type": "code",
      "source": [
        "df_pyspark.printSchema()"
      ],
      "metadata": {
        "colab": {
          "base_uri": "https://localhost:8080/"
        },
        "id": "s6EAs_gDKycM",
        "outputId": "61fe038f-f453-4248-cd5e-5baf40fccc8d"
      },
      "execution_count": null,
      "outputs": [
        {
          "output_type": "stream",
          "name": "stdout",
          "text": [
            "root\n",
            " |-- Name: string (nullable = true)\n",
            " |-- Age: string (nullable = true)\n",
            " |-- Exprrience: string (nullable = true)\n",
            "\n"
          ]
        }
      ]
    },
    {
      "cell_type": "markdown",
      "source": [
        "## DataFrame"
      ],
      "metadata": {
        "id": "DvhsPCwBLD-W"
      }
    },
    {
      "cell_type": "code",
      "source": [
        "from pyspark.sql import SparkSession\n",
        "\n",
        "spark = SparkSession.builder.appName('practice').getOrCreate()\n",
        "spark"
      ],
      "metadata": {
        "colab": {
          "base_uri": "https://localhost:8080/",
          "height": 222
        },
        "id": "Jf2MR1wTK3nQ",
        "outputId": "4819ce39-b539-4516-9558-367941aa77a5"
      },
      "execution_count": null,
      "outputs": [
        {
          "output_type": "execute_result",
          "data": {
            "text/plain": [
              "<pyspark.sql.session.SparkSession at 0x7a6d449a9fc0>"
            ],
            "text/html": [
              "\n",
              "            <div>\n",
              "                <p><b>SparkSession - in-memory</b></p>\n",
              "                \n",
              "        <div>\n",
              "            <p><b>SparkContext</b></p>\n",
              "\n",
              "            <p><a href=\"http://9b3b9e43515a:4040\">Spark UI</a></p>\n",
              "\n",
              "            <dl>\n",
              "              <dt>Version</dt>\n",
              "                <dd><code>v3.5.0</code></dd>\n",
              "              <dt>Master</dt>\n",
              "                <dd><code>local[*]</code></dd>\n",
              "              <dt>AppName</dt>\n",
              "                <dd><code>practice</code></dd>\n",
              "            </dl>\n",
              "        </div>\n",
              "        \n",
              "            </div>\n",
              "        "
            ]
          },
          "metadata": {},
          "execution_count": 134
        }
      ]
    },
    {
      "cell_type": "code",
      "source": [
        "### Check the schema\n",
        "df_pyspark.printSchema()"
      ],
      "metadata": {
        "colab": {
          "base_uri": "https://localhost:8080/"
        },
        "id": "aQVEGI2JMSMN",
        "outputId": "15755fe1-1cc1-4e26-e848-68344133c22b"
      },
      "execution_count": null,
      "outputs": [
        {
          "output_type": "stream",
          "name": "stdout",
          "text": [
            "root\n",
            " |-- Name: string (nullable = true)\n",
            " |-- Age: string (nullable = true)\n",
            " |-- Exprrience: string (nullable = true)\n",
            "\n"
          ]
        }
      ]
    },
    {
      "cell_type": "code",
      "source": [
        "df_pyspark=spark.read.option('header','true').csv('scores.csv',inferSchema=True)\n",
        "df_pyspark.show()"
      ],
      "metadata": {
        "colab": {
          "base_uri": "https://localhost:8080/"
        },
        "id": "9nAwsXRlLokf",
        "outputId": "21ef5ee1-af79-4e16-b9b2-2eb7d76439e6"
      },
      "execution_count": null,
      "outputs": [
        {
          "output_type": "stream",
          "name": "stdout",
          "text": [
            "+----+---+----------+\n",
            "|Name|Age|Exprrience|\n",
            "+----+---+----------+\n",
            "| Tim| 42|         8|\n",
            "|Jack| 33|         6|\n",
            "|Ruyb| 26|         2|\n",
            "+----+---+----------+\n",
            "\n"
          ]
        }
      ]
    },
    {
      "cell_type": "code",
      "source": [
        "df_pyspark.columns"
      ],
      "metadata": {
        "colab": {
          "base_uri": "https://localhost:8080/"
        },
        "id": "6TtBzfXGLonX",
        "outputId": "955b8c96-e11e-47c5-d8a6-2cc42c203725"
      },
      "execution_count": null,
      "outputs": [
        {
          "output_type": "execute_result",
          "data": {
            "text/plain": [
              "['Name', 'Age', 'Exprrience']"
            ]
          },
          "metadata": {},
          "execution_count": 137
        }
      ]
    },
    {
      "cell_type": "code",
      "source": [
        "df_pyspark.select(['Name','Age']).show()"
      ],
      "metadata": {
        "colab": {
          "base_uri": "https://localhost:8080/"
        },
        "id": "YyYPgoazLoqD",
        "outputId": "568be5a1-e7bc-467e-a531-d4c4dbbd7eda"
      },
      "execution_count": null,
      "outputs": [
        {
          "output_type": "stream",
          "name": "stdout",
          "text": [
            "+----+---+\n",
            "|Name|Age|\n",
            "+----+---+\n",
            "| Tim| 42|\n",
            "|Jack| 33|\n",
            "|Ruyb| 26|\n",
            "+----+---+\n",
            "\n"
          ]
        }
      ]
    },
    {
      "cell_type": "code",
      "source": [
        "df_pyspark.dtypes"
      ],
      "metadata": {
        "colab": {
          "base_uri": "https://localhost:8080/"
        },
        "id": "mBWsMNiaNoCk",
        "outputId": "eb2280d5-2249-4558-feea-1c825f9de51d"
      },
      "execution_count": null,
      "outputs": [
        {
          "output_type": "execute_result",
          "data": {
            "text/plain": [
              "[('Name', 'string'), ('Age', 'int'), ('Exprrience', 'int')]"
            ]
          },
          "metadata": {},
          "execution_count": 139
        }
      ]
    },
    {
      "cell_type": "code",
      "source": [
        "df_pyspark.describe().show()"
      ],
      "metadata": {
        "colab": {
          "base_uri": "https://localhost:8080/"
        },
        "id": "WnrZ_drFNoFn",
        "outputId": "732d1af3-2165-4a6b-ca0d-d25c704d5d89"
      },
      "execution_count": null,
      "outputs": [
        {
          "output_type": "stream",
          "name": "stdout",
          "text": [
            "+-------+----+------------------+-----------------+\n",
            "|summary|Name|               Age|       Exprrience|\n",
            "+-------+----+------------------+-----------------+\n",
            "|  count|   3|                 3|                3|\n",
            "|   mean|NULL|33.666666666666664|5.333333333333333|\n",
            "| stddev|NULL| 8.020806277010642|3.055050463303893|\n",
            "|    min|Jack|                26|                2|\n",
            "|    max| Tim|                42|                8|\n",
            "+-------+----+------------------+-----------------+\n",
            "\n"
          ]
        }
      ]
    },
    {
      "cell_type": "code",
      "source": [
        "# add column\n",
        "df_pyspark = df_pyspark.withColumn('Experience After 2 year',df_pyspark['Exprrience']+2)\n",
        "df_pyspark.show()"
      ],
      "metadata": {
        "colab": {
          "base_uri": "https://localhost:8080/"
        },
        "id": "hN1FZUIYNoIY",
        "outputId": "51aec476-a640-499f-83a2-9ff1e860c3cd"
      },
      "execution_count": null,
      "outputs": [
        {
          "output_type": "stream",
          "name": "stdout",
          "text": [
            "+----+---+----------+-----------------------+\n",
            "|Name|Age|Exprrience|Experience After 2 year|\n",
            "+----+---+----------+-----------------------+\n",
            "| Tim| 42|         8|                     10|\n",
            "|Jack| 33|         6|                      8|\n",
            "|Ruyb| 26|         2|                      4|\n",
            "+----+---+----------+-----------------------+\n",
            "\n"
          ]
        }
      ]
    },
    {
      "cell_type": "code",
      "source": [
        "# drop column\n",
        "df_pyspark = df_pyspark.drop('Experience After 2 year').show()"
      ],
      "metadata": {
        "colab": {
          "base_uri": "https://localhost:8080/"
        },
        "id": "FtOliSz4QnS5",
        "outputId": "968441e6-75f8-4c51-e3db-2d3bad4f630b"
      },
      "execution_count": null,
      "outputs": [
        {
          "output_type": "stream",
          "name": "stdout",
          "text": [
            "+----+---+----------+\n",
            "|Name|Age|Exprrience|\n",
            "+----+---+----------+\n",
            "| Tim| 42|         8|\n",
            "|Jack| 33|         6|\n",
            "|Ruyb| 26|         2|\n",
            "+----+---+----------+\n",
            "\n"
          ]
        }
      ]
    },
    {
      "cell_type": "code",
      "source": [
        "# rename column\n",
        "df_pyspark.withColumnRenamed('Exprrience','Experience').show()"
      ],
      "metadata": {
        "colab": {
          "base_uri": "https://localhost:8080/"
        },
        "id": "GhEg7Y_jROzG",
        "outputId": "a3998146-37ff-4818-b339-136af6060157"
      },
      "execution_count": null,
      "outputs": [
        {
          "output_type": "stream",
          "name": "stdout",
          "text": [
            "+----+---+----------+\n",
            "|Name|Age|Experience|\n",
            "+----+---+----------+\n",
            "| Tim| 42|         8|\n",
            "|Jack| 33|         6|\n",
            "|Ruyb| 26|         2|\n",
            "+----+---+----------+\n",
            "\n"
          ]
        }
      ]
    },
    {
      "cell_type": "code",
      "source": [
        "df_pyspark = spark.read.option('header','true').csv('scores.csv')"
      ],
      "metadata": {
        "id": "CitN6iFxRz8Z"
      },
      "execution_count": null,
      "outputs": []
    },
    {
      "cell_type": "markdown",
      "source": [
        "## Handling missing value"
      ],
      "metadata": {
        "id": "Bv0R0QOhSuXR"
      }
    },
    {
      "cell_type": "code",
      "source": [
        "df_pyspark = spark.read.csv('scores_1.csv',header=True,inferSchema=True).show()\n",
        "df_pyspark"
      ],
      "metadata": {
        "colab": {
          "base_uri": "https://localhost:8080/"
        },
        "id": "CBWYlu81UY_8",
        "outputId": "a07594e1-6d1d-4965-bfd2-0dc66285013c"
      },
      "execution_count": null,
      "outputs": [
        {
          "output_type": "stream",
          "name": "stdout",
          "text": [
            "+-------+----+----------+------+\n",
            "|   Name| Age|Exprrience|Salary|\n",
            "+-------+----+----------+------+\n",
            "|    Tim|  42|         8| 24000|\n",
            "|   Jack|  33|         6|  NULL|\n",
            "|   Ruby|  26|         2| 19000|\n",
            "| Amelly|  36|      NULL| 15000|\n",
            "|Sabrina|  44|         8| 21000|\n",
            "|   NULL|  43|      NULL| 17000|\n",
            "|  Candy|NULL|         6|  NULL|\n",
            "|   NULL|  26|         4|  NULL|\n",
            "|  Wanda|  39|      NULL| 13000|\n",
            "+-------+----+----------+------+\n",
            "\n"
          ]
        }
      ]
    },
    {
      "cell_type": "code",
      "source": [
        "df_pyspark.drop('Name').show()"
      ],
      "metadata": {
        "colab": {
          "base_uri": "https://localhost:8080/"
        },
        "id": "H0Ll2nX3SnXr",
        "outputId": "0fab32d9-dbd0-4ea9-f3f3-66c46efe5635"
      },
      "execution_count": null,
      "outputs": [
        {
          "output_type": "stream",
          "name": "stdout",
          "text": [
            "+----+----------+------+\n",
            "| Age|Exprrience|Salary|\n",
            "+----+----------+------+\n",
            "|  42|         8| 24000|\n",
            "|  33|         6|  NULL|\n",
            "|  26|         2| 19000|\n",
            "|  36|      NULL| 15000|\n",
            "|  44|         8| 21000|\n",
            "|  43|      NULL| 17000|\n",
            "|NULL|         6|  NULL|\n",
            "|  26|         4|  NULL|\n",
            "|  39|      NULL| 13000|\n",
            "+----+----------+------+\n",
            "\n"
          ]
        }
      ]
    },
    {
      "cell_type": "code",
      "source": [
        "df_pyspark.na.drop().show()"
      ],
      "metadata": {
        "colab": {
          "base_uri": "https://localhost:8080/"
        },
        "id": "wWrdKLYIVr8P",
        "outputId": "646d2c48-1d76-4c1c-e946-cae044804302"
      },
      "execution_count": null,
      "outputs": [
        {
          "output_type": "stream",
          "name": "stdout",
          "text": [
            "+-------+---+----------+------+\n",
            "|   Name|Age|Exprrience|Salary|\n",
            "+-------+---+----------+------+\n",
            "|    Tim| 42|         8| 24000|\n",
            "|   Ruby| 26|         2| 19000|\n",
            "|Sabrina| 44|         8| 21000|\n",
            "+-------+---+----------+------+\n",
            "\n"
          ]
        }
      ]
    },
    {
      "cell_type": "code",
      "source": [
        "df_pyspark.na.drop(how=\"any\").show()"
      ],
      "metadata": {
        "colab": {
          "base_uri": "https://localhost:8080/"
        },
        "id": "bo4IZSwZWB_A",
        "outputId": "6ec1eda5-2c38-46c2-c33f-0e6ec2763b9b"
      },
      "execution_count": null,
      "outputs": [
        {
          "output_type": "stream",
          "name": "stdout",
          "text": [
            "+-------+---+----------+------+\n",
            "|   Name|Age|Exprrience|Salary|\n",
            "+-------+---+----------+------+\n",
            "|    Tim| 42|         8| 24000|\n",
            "|   Ruby| 26|         2| 19000|\n",
            "|Sabrina| 44|         8| 21000|\n",
            "+-------+---+----------+------+\n",
            "\n"
          ]
        }
      ]
    },
    {
      "cell_type": "code",
      "source": [
        "df_pyspark.na.drop(how=\"all\").show()"
      ],
      "metadata": {
        "colab": {
          "base_uri": "https://localhost:8080/"
        },
        "id": "QUlihKfLWCBm",
        "outputId": "ddec736f-f91c-46a5-c604-2641fed87492"
      },
      "execution_count": null,
      "outputs": [
        {
          "output_type": "stream",
          "name": "stdout",
          "text": [
            "+-------+----+----------+------+\n",
            "|   Name| Age|Exprrience|Salary|\n",
            "+-------+----+----------+------+\n",
            "|    Tim|  42|         8| 24000|\n",
            "|   Jack|  33|         6|  NULL|\n",
            "|   Ruby|  26|         2| 19000|\n",
            "| Amelly|  36|      NULL| 15000|\n",
            "|Sabrina|  44|         8| 21000|\n",
            "|   NULL|  43|      NULL| 17000|\n",
            "|  Candy|NULL|         6|  NULL|\n",
            "|   NULL|  26|         4|  NULL|\n",
            "|  Wanda|  39|      NULL| 13000|\n",
            "+-------+----+----------+------+\n",
            "\n"
          ]
        }
      ]
    },
    {
      "cell_type": "code",
      "source": [
        "#threshold\n",
        "df_pyspark.na.drop(how=\"any\",thresh=3).show() #只保留那些至少有3個非缺失值的行"
      ],
      "metadata": {
        "colab": {
          "base_uri": "https://localhost:8080/"
        },
        "id": "dkyNtW_SWTaR",
        "outputId": "dae1ba7a-c034-414e-afc0-77f8310f5845"
      },
      "execution_count": null,
      "outputs": [
        {
          "output_type": "stream",
          "name": "stdout",
          "text": [
            "+-------+---+----------+------+\n",
            "|   Name|Age|Exprrience|Salary|\n",
            "+-------+---+----------+------+\n",
            "|    Tim| 42|         8| 24000|\n",
            "|   Jack| 33|         6|  NULL|\n",
            "|   Ruby| 26|         2| 19000|\n",
            "| Amelly| 36|      NULL| 15000|\n",
            "|Sabrina| 44|         8| 21000|\n",
            "|  Wanda| 39|      NULL| 13000|\n",
            "+-------+---+----------+------+\n",
            "\n"
          ]
        }
      ]
    },
    {
      "cell_type": "code",
      "source": [
        "# Subset\n",
        "df_pyspark.na.drop(how=\"any\",subset=['Exprrience']).show() #drop Exprrience contain null"
      ],
      "metadata": {
        "colab": {
          "base_uri": "https://localhost:8080/"
        },
        "id": "4hKyAo5tWTeB",
        "outputId": "1f2708e0-422e-4650-a60f-0b1ad6d00c52"
      },
      "execution_count": null,
      "outputs": [
        {
          "output_type": "stream",
          "name": "stdout",
          "text": [
            "+-------+----+----------+------+\n",
            "|   Name| Age|Exprrience|Salary|\n",
            "+-------+----+----------+------+\n",
            "|    Tim|  42|         8| 24000|\n",
            "|   Jack|  33|         6|  NULL|\n",
            "|   Ruby|  26|         2| 19000|\n",
            "|Sabrina|  44|         8| 21000|\n",
            "|  Candy|NULL|         6|  NULL|\n",
            "|   NULL|  26|         4|  NULL|\n",
            "+-------+----+----------+------+\n",
            "\n"
          ]
        }
      ]
    },
    {
      "cell_type": "code",
      "source": [
        "# Filling the Missing Value\n",
        "df_pyspark.na.fill('Missing Values', ['Exprrience','age']).show()"
      ],
      "metadata": {
        "colab": {
          "base_uri": "https://localhost:8080/"
        },
        "id": "DxxG7YjSWTgU",
        "outputId": "51cd8b92-83dc-40d2-f751-058ea5be7861"
      },
      "execution_count": null,
      "outputs": [
        {
          "output_type": "stream",
          "name": "stdout",
          "text": [
            "+-------+--------------+--------------+------+\n",
            "|   Name|           Age|    Exprrience|Salary|\n",
            "+-------+--------------+--------------+------+\n",
            "|    Tim|            42|             8| 24000|\n",
            "|   Jack|            33|             6|  NULL|\n",
            "|   Ruby|            26|             2| 19000|\n",
            "| Amelly|            36|Missing Values| 15000|\n",
            "|Sabrina|            44|             8| 21000|\n",
            "|   NULL|            43|Missing Values| 17000|\n",
            "|  Candy|Missing Values|             6|  NULL|\n",
            "|   NULL|            26|             4|  NULL|\n",
            "|  Wanda|            39|Missing Values| 13000|\n",
            "+-------+--------------+--------------+------+\n",
            "\n"
          ]
        }
      ]
    },
    {
      "cell_type": "code",
      "source": [
        "df_pyspark.show()"
      ],
      "metadata": {
        "colab": {
          "base_uri": "https://localhost:8080/"
        },
        "id": "QpTXa_UUWCEu",
        "outputId": "8866201a-d5fa-4ea2-83fe-2115f7d17124"
      },
      "execution_count": null,
      "outputs": [
        {
          "output_type": "stream",
          "name": "stdout",
          "text": [
            "+-------+----+----------+------+\n",
            "|   Name| Age|Exprrience|Salary|\n",
            "+-------+----+----------+------+\n",
            "|    Tim|  42|         8| 24000|\n",
            "|   Jack|  33|         6|  NULL|\n",
            "|   Ruby|  26|         2| 19000|\n",
            "| Amelly|  36|      NULL| 15000|\n",
            "|Sabrina|  44|         8| 21000|\n",
            "|   NULL|  43|      NULL| 17000|\n",
            "|  Candy|NULL|         6|  NULL|\n",
            "|   NULL|  26|         4|  NULL|\n",
            "|  Wanda|  39|      NULL| 13000|\n",
            "+-------+----+----------+------+\n",
            "\n"
          ]
        }
      ]
    },
    {
      "cell_type": "code",
      "source": [
        "# df_pyspark.printSchema()\n",
        "df_pyspark = spark.read.csv('scores_1.csv',header=True,inferSchema=False)"
      ],
      "metadata": {
        "id": "I6TssXAzpmtV"
      },
      "execution_count": null,
      "outputs": []
    },
    {
      "cell_type": "code",
      "source": [
        "df_pyspark.printSchema()"
      ],
      "metadata": {
        "colab": {
          "base_uri": "https://localhost:8080/"
        },
        "id": "V9WBJaoOqjgD",
        "outputId": "12c54595-7410-4e22-a6eb-c73eadaef3ec"
      },
      "execution_count": null,
      "outputs": [
        {
          "output_type": "stream",
          "name": "stdout",
          "text": [
            "root\n",
            " |-- Name: string (nullable = true)\n",
            " |-- Age: string (nullable = true)\n",
            " |-- Exprrience: string (nullable = true)\n",
            " |-- Salary: string (nullable = true)\n",
            "\n"
          ]
        }
      ]
    },
    {
      "cell_type": "code",
      "source": [
        "from pyspark.ml.feature import Imputer\n",
        "from pyspark.sql.types import IntegerType\n",
        "\n",
        "# 將除了 'NAME' 欄位以外的所有欄位轉換為整數型\n",
        "columns_to_convert = [col_name for col_name in df_pyspark.columns if col_name != 'Name']\n",
        "for col_name in columns_to_convert:\n",
        "    df_pyspark = df_pyspark.withColumn(col_name, df_pyspark[col_name].cast(IntegerType()))\n",
        "\n",
        "imputer = Imputer(\n",
        "    inputCols=['Age', 'Exprrience', 'Salary'],\n",
        "    outputCols=[\"{}_imputed\".format(c) for c in ['Age', 'Exprrience', 'Salary']]\n",
        "    ).setStrategy(\"median\")\n",
        "\n",
        "# Add imputation cols to df\n",
        "imputer.fit(df_pyspark).transform(df_pyspark).show()"
      ],
      "metadata": {
        "colab": {
          "base_uri": "https://localhost:8080/"
        },
        "id": "egB5WqfmorjV",
        "outputId": "1cb94021-f384-49f0-e4f2-b848d456ef89"
      },
      "execution_count": null,
      "outputs": [
        {
          "output_type": "stream",
          "name": "stdout",
          "text": [
            "+-------+----+----------+------+-----------+------------------+--------------+\n",
            "|   Name| Age|Exprrience|Salary|Age_imputed|Exprrience_imputed|Salary_imputed|\n",
            "+-------+----+----------+------+-----------+------------------+--------------+\n",
            "|    Tim|  42|         8| 24000|         42|                 8|         24000|\n",
            "|   Jack|  33|         6|  NULL|         33|                 6|         17000|\n",
            "|   Ruby|  26|         2| 19000|         26|                 2|         19000|\n",
            "| Amelly|  36|      NULL| 15000|         36|                 6|         15000|\n",
            "|Sabrina|  44|         8| 21000|         44|                 8|         21000|\n",
            "|   NULL|  43|      NULL| 17000|         43|                 6|         17000|\n",
            "|  Candy|NULL|         6|  NULL|         36|                 6|         17000|\n",
            "|   NULL|  26|         4|  NULL|         26|                 4|         17000|\n",
            "|  Wanda|  39|      NULL| 13000|         39|                 6|         13000|\n",
            "+-------+----+----------+------+-----------+------------------+--------------+\n",
            "\n"
          ]
        }
      ]
    },
    {
      "cell_type": "markdown",
      "source": [
        "## Groupby & Aggregate"
      ],
      "metadata": {
        "id": "SuiBR52oo3jr"
      }
    },
    {
      "cell_type": "code",
      "source": [
        "!pip install pyspark\n",
        "\n",
        "import pyspark\n",
        "import pandas as pd\n",
        "from pyspark.sql import SparkSession\n",
        "\n",
        "spark = SparkSession.builder.appName('practice').getOrCreate()\n",
        "spark"
      ],
      "metadata": {
        "id": "uNRCE2nmqibE"
      },
      "execution_count": null,
      "outputs": []
    },
    {
      "cell_type": "code",
      "source": [
        "df_pyspark=spark.read.option('header','true').csv('file.csv',inferSchema=True)\n",
        "df_pyspark.show()"
      ],
      "metadata": {
        "id": "iZBOqvjsormY",
        "colab": {
          "base_uri": "https://localhost:8080/"
        },
        "outputId": "2e362968-479a-442b-92e3-cf0f885cf0b4"
      },
      "execution_count": null,
      "outputs": [
        {
          "output_type": "stream",
          "name": "stdout",
          "text": [
            "+-----+----------+------+\n",
            "| Name|Department|Salary|\n",
            "+-----+----------+------+\n",
            "|  Kim|       IOT|  9000|\n",
            "|Susan|  Counting|  3000|\n",
            "|Sunny|       IOT|  1500|\n",
            "|  Ada|  Big data|  4200|\n",
            "|Susan|  Counting|  2100|\n",
            "|  Max|        QA|  1600|\n",
            "|  Ada|  Big data|  3400|\n",
            "|  Max|        QA|  2100|\n",
            "|  Kim|       IOT|  1600|\n",
            "+-----+----------+------+\n",
            "\n"
          ]
        }
      ]
    },
    {
      "cell_type": "code",
      "source": [
        "from pyspark.sql.types import IntegerType\n",
        "\n",
        "# 將'salary'轉換為整數型\n",
        "df_pyspark = df_pyspark.withColumn('Salary', df_pyspark['Salary'].cast(IntegerType()))\n",
        "df_pyspark.groupBy('Name').sum().show()"
      ],
      "metadata": {
        "id": "lG4nhz9Xorpf",
        "colab": {
          "base_uri": "https://localhost:8080/"
        },
        "outputId": "ded6cb23-e75e-4370-bb87-51f296142be6"
      },
      "execution_count": null,
      "outputs": [
        {
          "output_type": "stream",
          "name": "stdout",
          "text": [
            "+-----+-----------+\n",
            "| Name|sum(Salary)|\n",
            "+-----+-----------+\n",
            "|Susan|       5100|\n",
            "|Sunny|       1500|\n",
            "|  Ada|       7600|\n",
            "|  Kim|      10600|\n",
            "|  Max|       3700|\n",
            "+-----+-----------+\n",
            "\n"
          ]
        }
      ]
    },
    {
      "cell_type": "code",
      "source": [
        "df_pyspark.groupBy('Name').avg().show()"
      ],
      "metadata": {
        "id": "PIGmHXqDorsf",
        "colab": {
          "base_uri": "https://localhost:8080/"
        },
        "outputId": "eef9f04e-18e2-4f61-e47e-071df68c041e"
      },
      "execution_count": null,
      "outputs": [
        {
          "output_type": "stream",
          "name": "stdout",
          "text": [
            "+-----+-----------+\n",
            "| Name|avg(Salary)|\n",
            "+-----+-----------+\n",
            "|Susan|     2550.0|\n",
            "|Sunny|     1500.0|\n",
            "|  Ada|     3800.0|\n",
            "|  Kim|     5300.0|\n",
            "|  Max|     1850.0|\n",
            "+-----+-----------+\n",
            "\n"
          ]
        }
      ]
    },
    {
      "cell_type": "code",
      "source": [
        "df_pyspark.groupBy('Department').sum().show()"
      ],
      "metadata": {
        "id": "2pGXUY-2VLM6",
        "colab": {
          "base_uri": "https://localhost:8080/"
        },
        "outputId": "33862836-f4f8-4521-b977-b2628c76a639"
      },
      "execution_count": null,
      "outputs": [
        {
          "output_type": "stream",
          "name": "stdout",
          "text": [
            "+----------+-----------+\n",
            "|Department|sum(Salary)|\n",
            "+----------+-----------+\n",
            "|       IOT|      12100|\n",
            "|  Counting|       5100|\n",
            "|        QA|       3700|\n",
            "|  Big data|       7600|\n",
            "+----------+-----------+\n",
            "\n"
          ]
        }
      ]
    },
    {
      "cell_type": "code",
      "source": [
        "df_pyspark.groupBy('Department').mean().show()"
      ],
      "metadata": {
        "colab": {
          "base_uri": "https://localhost:8080/"
        },
        "id": "z1tGWutRp637",
        "outputId": "3af4f213-e184-4923-fcdc-1a1f695aedda"
      },
      "execution_count": null,
      "outputs": [
        {
          "output_type": "stream",
          "name": "stdout",
          "text": [
            "+----------+------------------+\n",
            "|Department|       avg(Salary)|\n",
            "+----------+------------------+\n",
            "|       IOT|4033.3333333333335|\n",
            "|  Counting|            2550.0|\n",
            "|        QA|            1850.0|\n",
            "|  Big data|            3800.0|\n",
            "+----------+------------------+\n",
            "\n"
          ]
        }
      ]
    },
    {
      "cell_type": "code",
      "source": [
        "df_pyspark.groupBy('Department').count().show()"
      ],
      "metadata": {
        "colab": {
          "base_uri": "https://localhost:8080/"
        },
        "id": "QfLm4cxtqIaA",
        "outputId": "b387f50f-6701-4f82-ab0b-bfa4c6e7046d"
      },
      "execution_count": null,
      "outputs": [
        {
          "output_type": "stream",
          "name": "stdout",
          "text": [
            "+----------+-----+\n",
            "|Department|count|\n",
            "+----------+-----+\n",
            "|       IOT|    3|\n",
            "|  Counting|    2|\n",
            "|        QA|    2|\n",
            "|  Big data|    2|\n",
            "+----------+-----+\n",
            "\n"
          ]
        }
      ]
    },
    {
      "cell_type": "code",
      "source": [
        "df_pyspark.agg({'Salary':'sum'}).show()"
      ],
      "metadata": {
        "id": "mSX3L-4vqKUZ",
        "outputId": "0f4eb955-ac27-4c95-9cd8-9c77c5d9e963",
        "colab": {
          "base_uri": "https://localhost:8080/"
        }
      },
      "execution_count": null,
      "outputs": [
        {
          "output_type": "stream",
          "name": "stdout",
          "text": [
            "+-----------+\n",
            "|sum(Salary)|\n",
            "+-----------+\n",
            "|      28500|\n",
            "+-----------+\n",
            "\n"
          ]
        }
      ]
    },
    {
      "cell_type": "markdown",
      "source": [
        "## MLlib\n",
        "MLlib is Apache Spark's scalable machine learning library."
      ],
      "metadata": {
        "id": "KWx0l15O2_2x"
      }
    },
    {
      "cell_type": "code",
      "source": [
        "# !pip install pyspark"
      ],
      "metadata": {
        "id": "kdIGIm2M2_2y"
      },
      "execution_count": null,
      "outputs": []
    },
    {
      "cell_type": "code",
      "source": [
        "import pyspark\n",
        "import pandas as pd"
      ],
      "metadata": {
        "id": "U5oay1UGqfnz"
      },
      "execution_count": null,
      "outputs": []
    },
    {
      "cell_type": "code",
      "source": [
        "from pyspark.sql import SparkSession\n",
        "\n",
        "spark = SparkSession.builder.appName('practice').getOrCreate()\n",
        "spark"
      ],
      "metadata": {
        "colab": {
          "base_uri": "https://localhost:8080/",
          "height": 222
        },
        "outputId": "48ca47ae-7e98-45c8-b732-fa60397133a4",
        "id": "ZMVP7kWf2_2z"
      },
      "execution_count": null,
      "outputs": [
        {
          "output_type": "execute_result",
          "data": {
            "text/plain": [
              "<pyspark.sql.session.SparkSession at 0x7ecaa0420df0>"
            ],
            "text/html": [
              "\n",
              "            <div>\n",
              "                <p><b>SparkSession - in-memory</b></p>\n",
              "                \n",
              "        <div>\n",
              "            <p><b>SparkContext</b></p>\n",
              "\n",
              "            <p><a href=\"http://f3c780cbca83:4040\">Spark UI</a></p>\n",
              "\n",
              "            <dl>\n",
              "              <dt>Version</dt>\n",
              "                <dd><code>v3.5.0</code></dd>\n",
              "              <dt>Master</dt>\n",
              "                <dd><code>local[*]</code></dd>\n",
              "              <dt>AppName</dt>\n",
              "                <dd><code>practice</code></dd>\n",
              "            </dl>\n",
              "        </div>\n",
              "        \n",
              "            </div>\n",
              "        "
            ]
          },
          "metadata": {},
          "execution_count": 4
        }
      ]
    },
    {
      "cell_type": "code",
      "source": [
        "training = spark.read.option('header','true').csv('file_2.csv')\n",
        "training.show()"
      ],
      "metadata": {
        "colab": {
          "base_uri": "https://localhost:8080/"
        },
        "id": "AorZSQSLqwRd",
        "outputId": "683035e5-21d6-4a7a-e241-cd3c5f5343db"
      },
      "execution_count": null,
      "outputs": [
        {
          "output_type": "stream",
          "name": "stdout",
          "text": [
            "+-------+---+----------+------+\n",
            "|   Name|Age|Exprrience|Salary|\n",
            "+-------+---+----------+------+\n",
            "|    Tim| 42|         8| 24000|\n",
            "|   Jack| 33|         6| 18000|\n",
            "|   Ruby| 26|         2| 19000|\n",
            "| Amelly| 36|         4| 15000|\n",
            "|Sabrina| 44|         8| 21000|\n",
            "|  Candy| 43|         8| 17000|\n",
            "|  Wanda| 31|         6| 22000|\n",
            "|   Paul| 26|         4| 15000|\n",
            "+-------+---+----------+------+\n",
            "\n"
          ]
        }
      ]
    },
    {
      "cell_type": "code",
      "source": [
        "training.printSchema()"
      ],
      "metadata": {
        "colab": {
          "base_uri": "https://localhost:8080/"
        },
        "id": "456KaiD1qwT6",
        "outputId": "367e4522-85f4-46d4-bd08-36976d3c6d89"
      },
      "execution_count": null,
      "outputs": [
        {
          "output_type": "stream",
          "name": "stdout",
          "text": [
            "root\n",
            " |-- Name: string (nullable = true)\n",
            " |-- Age: string (nullable = true)\n",
            " |-- Exprrience: string (nullable = true)\n",
            " |-- Salary: string (nullable = true)\n",
            "\n"
          ]
        }
      ]
    },
    {
      "cell_type": "code",
      "source": [
        "from pyspark.sql.types import IntegerType\n",
        "\n",
        "# 將除了 'NAME' 欄位以外的所有欄位轉換為整數型\n",
        "columns_to_convert = [col_name for col_name in training.columns if col_name != 'Name']\n",
        "for col_name in columns_to_convert:\n",
        "    training = training.withColumn(col_name, training[col_name].cast(IntegerType()))"
      ],
      "metadata": {
        "id": "AZj7CqrmtVt7"
      },
      "execution_count": null,
      "outputs": []
    },
    {
      "cell_type": "code",
      "source": [
        "training.printSchema()"
      ],
      "metadata": {
        "colab": {
          "base_uri": "https://localhost:8080/"
        },
        "id": "gUJWDWOUtcUq",
        "outputId": "58bcdbc7-e354-489e-f83b-26de0346f764"
      },
      "execution_count": null,
      "outputs": [
        {
          "output_type": "stream",
          "name": "stdout",
          "text": [
            "root\n",
            " |-- Name: string (nullable = true)\n",
            " |-- Age: integer (nullable = true)\n",
            " |-- Exprrience: integer (nullable = true)\n",
            " |-- Salary: integer (nullable = true)\n",
            "\n"
          ]
        }
      ]
    },
    {
      "cell_type": "code",
      "source": [
        "from pyspark.ml.feature import VectorAssembler\n",
        "featureassembler=VectorAssembler(inputCols=[\"Age\",\"Exprrience\"],outputCol='independent feature')"
      ],
      "metadata": {
        "id": "6v4I3q1BqwWt"
      },
      "execution_count": null,
      "outputs": []
    },
    {
      "cell_type": "code",
      "source": [
        "output=featureassembler.transform(training)\n",
        "output.show()"
      ],
      "metadata": {
        "colab": {
          "base_uri": "https://localhost:8080/"
        },
        "id": "6fkgVJt6r6B_",
        "outputId": "7428413c-6da0-445d-aab5-e3c3c25e3a86"
      },
      "execution_count": null,
      "outputs": [
        {
          "output_type": "stream",
          "name": "stdout",
          "text": [
            "+-------+---+----------+------+-------------------+\n",
            "|   Name|Age|Exprrience|Salary|independent feature|\n",
            "+-------+---+----------+------+-------------------+\n",
            "|    Tim| 42|         8| 24000|         [42.0,8.0]|\n",
            "|   Jack| 33|         6| 18000|         [33.0,6.0]|\n",
            "|   Ruby| 26|         2| 19000|         [26.0,2.0]|\n",
            "| Amelly| 36|         4| 15000|         [36.0,4.0]|\n",
            "|Sabrina| 44|         8| 21000|         [44.0,8.0]|\n",
            "|  Candy| 43|         8| 17000|         [43.0,8.0]|\n",
            "|  Wanda| 31|         6| 22000|         [31.0,6.0]|\n",
            "|   Paul| 26|         4| 15000|         [26.0,4.0]|\n",
            "+-------+---+----------+------+-------------------+\n",
            "\n"
          ]
        }
      ]
    },
    {
      "cell_type": "code",
      "source": [
        "finalized_data=output.select(\"independent feature\",\"Salary\")\n",
        "finalized_data.show()"
      ],
      "metadata": {
        "colab": {
          "base_uri": "https://localhost:8080/"
        },
        "id": "3pXHWwnOr6FG",
        "outputId": "ed8550a0-2e90-4763-c699-77f5a03699e6"
      },
      "execution_count": null,
      "outputs": [
        {
          "output_type": "stream",
          "name": "stdout",
          "text": [
            "+-------------------+------+\n",
            "|independent feature|Salary|\n",
            "+-------------------+------+\n",
            "|         [42.0,8.0]| 24000|\n",
            "|         [33.0,6.0]| 18000|\n",
            "|         [26.0,2.0]| 19000|\n",
            "|         [36.0,4.0]| 15000|\n",
            "|         [44.0,8.0]| 21000|\n",
            "|         [43.0,8.0]| 17000|\n",
            "|         [31.0,6.0]| 22000|\n",
            "|         [26.0,4.0]| 15000|\n",
            "+-------------------+------+\n",
            "\n"
          ]
        }
      ]
    },
    {
      "cell_type": "code",
      "source": [
        "from pyspark.ml.regression import LinearRegression\n",
        "\n",
        "##train test split\n",
        "train_data, test_data = finalized_data.randomSplit([0.75,0.25])\n",
        "regressor = LinearRegression(featuresCol='independent feature', labelCol='Salary')\n",
        "regressor = regressor.fit(train_data)"
      ],
      "metadata": {
        "id": "e15-LxJNu6LC"
      },
      "execution_count": null,
      "outputs": []
    },
    {
      "cell_type": "code",
      "source": [
        "regressor.coefficients"
      ],
      "metadata": {
        "colab": {
          "base_uri": "https://localhost:8080/"
        },
        "id": "ynTqc4kSu6Np",
        "outputId": "cf61b89a-faad-4427-f8c9-e9c7515210c9"
      },
      "execution_count": null,
      "outputs": [
        {
          "output_type": "execute_result",
          "data": {
            "text/plain": [
              "DenseVector([-138.5542, 1449.2059])"
            ]
          },
          "metadata": {},
          "execution_count": 53
        }
      ]
    },
    {
      "cell_type": "code",
      "source": [
        "regressor.intercept"
      ],
      "metadata": {
        "colab": {
          "base_uri": "https://localhost:8080/"
        },
        "id": "5ovZT3O-vYQ5",
        "outputId": "a972d5be-29c9-4cc9-ca23-c552692f88ec"
      },
      "execution_count": null,
      "outputs": [
        {
          "output_type": "execute_result",
          "data": {
            "text/plain": [
              "16338.170865279186"
            ]
          },
          "metadata": {},
          "execution_count": 54
        }
      ]
    },
    {
      "cell_type": "code",
      "source": [
        "pred_results=regressor.evaluate(test_data)\n",
        "pred_results.predictions.show()\n"
      ],
      "metadata": {
        "colab": {
          "base_uri": "https://localhost:8080/"
        },
        "id": "SZ0t5SAtvYe9",
        "outputId": "dc71c35f-1ad5-473e-b93c-352e00739bd2"
      },
      "execution_count": null,
      "outputs": [
        {
          "output_type": "stream",
          "name": "stdout",
          "text": [
            "+-------------------+------+------------------+\n",
            "|independent feature|Salary|        prediction|\n",
            "+-------------------+------+------------------+\n",
            "|         [33.0,6.0]| 18000|20461.117196056934|\n",
            "|         [43.0,8.0]| 17000| 21973.98685651698|\n",
            "+-------------------+------+------------------+\n",
            "\n"
          ]
        }
      ]
    },
    {
      "cell_type": "code",
      "source": [
        "pred_results.meanAbsoluteError,pred_results.meanSquaredError"
      ],
      "metadata": {
        "colab": {
          "base_uri": "https://localhost:8080/"
        },
        "id": "0yoMmscXqwZY",
        "outputId": "bbd14ba9-8757-4c53-bbd2-fbcca8e41a31"
      },
      "execution_count": null,
      "outputs": [
        {
          "output_type": "execute_result",
          "data": {
            "text/plain": [
              "(3717.5520262869577, 15398821.550765416)"
            ]
          },
          "metadata": {},
          "execution_count": 56
        }
      ]
    },
    {
      "cell_type": "code",
      "source": [],
      "metadata": {
        "id": "ktLvJN9J2_24"
      },
      "execution_count": null,
      "outputs": []
    }
  ]
}